{
 "cells": [
  {
   "attachments": {},
   "cell_type": "markdown",
   "metadata": {
    "button": false,
    "id": "Z3KsV7iR01a0",
    "new_sheet": false,
    "run_control": {
     "read_only": false
    }
   },
   "source": [
    "\n",
    "# <font style=\"color: #d60e8c; text-align:center;\">Práctica 5: Redes neuronales convolucionales"
   ]
  },
  {
   "attachments": {},
   "cell_type": "markdown",
   "metadata": {},
   "source": [
    "- Autor 1:\n",
    "- Autor 2:"
   ]
  },
  {
   "attachments": {},
   "cell_type": "markdown",
   "metadata": {
    "id": "vjiPbBkY01a5"
   },
   "source": [
    "# <font style=\"color: #d60e8c; text-align:center;\">Introducción\n",
    "<hr style=\"border: 0.5px solid #d60e8c;\">"
   ]
  },
  {
   "attachments": {},
   "cell_type": "markdown",
   "metadata": {
    "button": false,
    "id": "eFiHf4M401a5",
    "new_sheet": false,
    "run_control": {
     "read_only": false
    }
   },
   "source": [
    "## Importamos las librerías"
   ]
  },
  {
   "cell_type": "code",
   "execution_count": null,
   "metadata": {
    "button": false,
    "id": "ZXUVeQLC01a6",
    "new_sheet": false,
    "run_control": {
     "read_only": false
    },
    "tags": []
   },
   "outputs": [],
   "source": [
    "import pandas as pd\n",
    "import numpy as np \n",
    "import matplotlib.pyplot as plt \n",
    "from sklearn import preprocessing\n",
    "from sklearn.metrics import r2_score\n",
    "from sklearn.model_selection import train_test_split"
   ]
  },
  {
   "cell_type": "code",
   "execution_count": null,
   "metadata": {
    "id": "rK9WXzrO01a7",
    "tags": []
   },
   "outputs": [],
   "source": [
    "from tensorflow import keras\n",
    "import tensorflow as tf\n",
    "from tensorflow.keras import layers\n",
    "from tensorflow.keras import callbacks\n",
    "from tensorflow.keras import utils "
   ]
  },
  {
   "cell_type": "code",
   "execution_count": null,
   "metadata": {
    "id": "mYg3YD3o01a9",
    "tags": []
   },
   "outputs": [],
   "source": [
    "SEED_VALUE = 0\n",
    "\n",
    "# Fijamos al semilla para hacer determinista el entrenamiento.\n",
    "np.random.seed(SEED_VALUE)\n",
    "tf.random.set_seed(SEED_VALUE)\n",
    "tf.keras.utils.set_random_seed(SEED_VALUE)\n",
    "\n",
    "tf.config.experimental.enable_op_determinism()\n"
   ]
  },
  {
   "attachments": {},
   "cell_type": "markdown",
   "metadata": {
    "id": "oicNfYuv01a8"
   },
   "source": [
    "## Cargamos los datos\n"
   ]
  },
  {
   "cell_type": "code",
   "execution_count": null,
   "metadata": {
    "colab": {
     "base_uri": "https://localhost:8080/"
    },
    "executionInfo": {
     "elapsed": 1471,
     "status": "ok",
     "timestamp": 1683627876086,
     "user": {
      "displayName": "Alma Mallo",
      "userId": "02140095592591339826"
     },
     "user_tz": -120
    },
    "id": "6zzuR_tp01a9",
    "outputId": "5b46a027-45d7-4dbd-a13d-3c83593ad608",
    "tags": []
   },
   "outputs": [
    {
     "name": "stdout",
     "output_type": "stream",
     "text": [
      "Downloading data from https://storage.googleapis.com/tensorflow/tf-keras-datasets/mnist.npz\n",
      "11490434/11490434 [==============================] - 1s 0us/step\n"
     ]
    }
   ],
   "source": [
    "from keras.datasets import mnist\n",
    "# Cargar las imágenes\n",
    "(X_train, y_train), (X_test, y_test) = mnist.load_data()"
   ]
  },
  {
   "cell_type": "code",
   "execution_count": null,
   "metadata": {
    "id": "acx01mKMCVYG",
    "tags": []
   },
   "outputs": [],
   "source": [
    "# Normalizar las imagenes de escala de grises 0–255 (entre 0 –1):\n",
    "X_train = X_train / 255 \n",
    "X_test = X_test / 255\n",
    "\n",
    "# Codificar las etiquetas de clase en formato de vectores categoricos:\n",
    "y_train_cat = utils.to_categorical (y_train) \n",
    "y_test_cat = utils.to_categorical (y_test)"
   ]
  },
  {
   "cell_type": "code",
   "execution_count": null,
   "metadata": {
    "colab": {
     "base_uri": "https://localhost:8080/"
    },
    "executionInfo": {
     "elapsed": 407,
     "status": "ok",
     "timestamp": 1683627884051,
     "user": {
      "displayName": "Alma Mallo",
      "userId": "02140095592591339826"
     },
     "user_tz": -120
    },
    "id": "_AISjtGJCVYG",
    "outputId": "e4738abf-5ffc-4b33-edca-7727541e2512",
    "tags": []
   },
   "outputs": [
    {
     "data": {
      "text/plain": [
       "(28, 28, 1)"
      ]
     },
     "execution_count": 7,
     "metadata": {},
     "output_type": "execute_result"
    }
   ],
   "source": [
    "_, n_rows, n_cols = X_train.shape\n",
    "channels = 1\n",
    "\n",
    "n_rows, n_cols, channels"
   ]
  },
  {
   "attachments": {},
   "cell_type": "markdown",
   "metadata": {
    "id": "WBd1t_3oCVYH"
   },
   "source": [
    "## Exploramos los datos"
   ]
  },
  {
   "cell_type": "code",
   "execution_count": null,
   "metadata": {
    "colab": {
     "base_uri": "https://localhost:8080/",
     "height": 487
    },
    "executionInfo": {
     "elapsed": 1056,
     "status": "ok",
     "timestamp": 1683627888159,
     "user": {
      "displayName": "Alma Mallo",
      "userId": "02140095592591339826"
     },
     "user_tz": -120
    },
    "id": "zHUfL8j-CVYH",
    "outputId": "4688231f-9c3b-4736-f742-7831bea78840",
    "tags": []
   },
   "outputs": [
    {
     "name": "stdout",
     "output_type": "stream",
     "text": [
      "Número de clases :  10\n",
      "Clases :  [0 1 2 3 4 5 6 7 8 9]\n"
     ]
    },
    {
     "data": {
      "text/plain": [
       "Text(0.5, 1.0, 'Clase : 7')"
      ]
     },
     "execution_count": 8,
     "metadata": {},
     "output_type": "execute_result"
    },
    {
     "data": {
      "image/png": "[encoded data removed]",
      "text/plain": [
       "<Figure size 1000x500 with 2 Axes>"
      ]
     },
     "metadata": {},
     "output_type": "display_data"
    }
   ],
   "source": [
    "# Número de clases\n",
    "classes = np.unique(y_train)\n",
    "num_classes = y_train_cat[0].shape[0]\n",
    "\n",
    "print('Número de clases : ', num_classes)\n",
    "print('Clases : ', classes)\n",
    "\n",
    "plt.figure(figsize=[10,5])\n",
    "\n",
    "# Display the first image in training data\n",
    "plt.subplot(121)\n",
    "plt.imshow(X_train[0,:,:], cmap=\"gray\")\n",
    "plt.title(f\"Clase : {y_train[0]}\")\n",
    "\n",
    "# Display the first image in testing data\n",
    "plt.subplot(122)\n",
    "plt.imshow(X_test[0,:,:], cmap=\"gray\")\n",
    "plt.title(f\"Clase : {y_test[0]}\")"
   ]
  },
  {
   "cell_type": "code",
   "execution_count": null,
   "metadata": {
    "colab": {
     "base_uri": "https://localhost:8080/"
    },
    "executionInfo": {
     "elapsed": 409,
     "status": "ok",
     "timestamp": 1683627892127,
     "user": {
      "displayName": "Alma Mallo",
      "userId": "02140095592591339826"
     },
     "user_tz": -120
    },
    "id": "Yji0xRzptvu8",
    "outputId": "a24e51f6-37ab-49a9-b46e-32da9dcde32b",
    "tags": []
   },
   "outputs": [
    {
     "name": "stdout",
     "output_type": "stream",
     "text": [
      "Muestras entrenamiento: 60000\n",
      "Muestras test: 10000\n",
      "Total muestras: 70000\n"
     ]
    }
   ],
   "source": [
    "print(f\"Muestras entrenamiento: {X_train.shape[0]}\")\n",
    "print(f\"Muestras test: {X_test.shape[0]}\")\n",
    "print(f\"Total muestras: {X_train.shape[0] + X_test.shape[0]}\")"
   ]
  },
  {
   "attachments": {},
   "cell_type": "markdown",
   "metadata": {
    "id": "7DsliDwtCVYI"
   },
   "source": [
    "# <font style=\"color: #d60e8c;\">Creamos el modelo\n",
    "<hr style=\"border: 0.5px solid #d60e8c;\">"
   ]
  },
  {
   "attachments": {},
   "cell_type": "markdown",
   "metadata": {},
   "source": [
    "Para implementar la CNN, añadiremos capas Convolucionales seguidas de capas de Max Pooling. Usaremos también Dropout para evitar el sobreentrenamniento. Finalmente, añadiremos un capa completamente conectada (Dense).\n",
    "\n",
    "\n",
    "Información adicional sobre CNN:\n",
    "- https://towardsdatascience.com/a-comprehensive-guide-to-convolutional-neural-networks-the-eli5-way-3bd2b1164a53\n"
   ]
  },
  {
   "cell_type": "code",
   "execution_count": null,
   "metadata": {
    "colab": {
     "base_uri": "https://localhost:8080/"
    },
    "executionInfo": {
     "elapsed": 549,
     "status": "ok",
     "timestamp": 1683629442423,
     "user": {
      "displayName": "Alma Mallo",
      "userId": "02140095592591339826"
     },
     "user_tz": -120
    },
    "id": "_a7F1xz801a9",
    "outputId": "fffcad83-7b4f-4b9a-fb10-36b3103e77c8",
    "tags": []
   },
   "outputs": [
    {
     "name": "stdout",
     "output_type": "stream",
     "text": [
      "Model: \"sequential_11\"\n",
      "_________________________________________________________________\n",
      " Layer (type)                Output Shape              Param #   \n",
      "=================================================================\n",
      " conv2d_42 (Conv2D)          (None, 26, 26, 32)        320       \n",
      "                                                                 \n",
      " conv2d_43 (Conv2D)          (None, 24, 24, 32)        9248      \n",
      "                                                                 \n",
      " max_pooling2d_21 (MaxPoolin  (None, 12, 12, 32)       0         \n",
      " g2D)                                                            \n",
      "                                                                 \n",
      " dropout_32 (Dropout)        (None, 12, 12, 32)        0         \n",
      "                                                                 \n",
      " conv2d_44 (Conv2D)          (None, 10, 10, 64)        18496     \n",
      "                                                                 \n",
      " conv2d_45 (Conv2D)          (None, 8, 8, 64)          36928     \n",
      "                                                                 \n",
      " max_pooling2d_22 (MaxPoolin  (None, 4, 4, 64)         0         \n",
      " g2D)                                                            \n",
      "                                                                 \n",
      " dropout_33 (Dropout)        (None, 4, 4, 64)          0         \n",
      "                                                                 \n",
      " flatten_11 (Flatten)        (None, 1024)              0         \n",
      "                                                                 \n",
      " dense_22 (Dense)            (None, 64)                65600     \n",
      "                                                                 \n",
      " dropout_34 (Dropout)        (None, 64)                0         \n",
      "                                                                 \n",
      " dense_23 (Dense)            (None, 10)                650       \n",
      "                                                                 \n",
      "=================================================================\n",
      "Total params: 131,242\n",
      "Trainable params: 131,242\n",
      "Non-trainable params: 0\n",
      "_________________________________________________________________\n"
     ]
    }
   ],
   "source": [
    "  model = keras.Sequential()\n",
    "\n",
    "  model.add(layers.Conv2D(32, (3, 3), input_shape=(n_rows, n_cols, channels), activation=\"relu\")) \n",
    "  model.add(layers.Conv2D(32, (3, 3),  activation=\"relu\")) \n",
    "  model.add(layers.MaxPooling2D(pool_size=(2, 2))) \n",
    "  model.add(layers.Dropout(0.2))\n",
    "\n",
    "  model.add(layers.Conv2D(64, (3, 3), activation=\"relu\")) \n",
    "  model.add(layers.Conv2D(64, (3, 3), activation=\"relu\")) \n",
    "  model.add(layers.MaxPooling2D(pool_size=(2, 2))) \n",
    "  model.add(layers.Dropout(0.2))\n",
    "\n",
    "  model.add(layers.Flatten ())\n",
    "  model.add(layers.Dense(64, activation=\"relu\")) \n",
    "  model.add(layers.Dropout(0.2))\n",
    "  # Capa de salida:\n",
    "  model.add(layers.Dense(num_classes, activation=\"softmax\"))\n",
    " \n",
    "  model.compile(loss=\"categorical_crossentropy\",optimizer=\"adam\", metrics=['accuracy'])\n",
    "  model.summary()\n"
   ]
  },
  {
   "cell_type": "code",
   "execution_count": null,
   "metadata": {
    "colab": {
     "base_uri": "https://localhost:8080/"
    },
    "executionInfo": {
     "elapsed": 72117,
     "status": "ok",
     "timestamp": 1683629517816,
     "user": {
      "displayName": "Alma Mallo",
      "userId": "02140095592591339826"
     },
     "user_tz": -120
    },
    "id": "qvNeNV-901a-",
    "outputId": "37fe7794-b3c3-4843-a3b8-ae1fe812e844",
    "tags": []
   },
   "outputs": [
    {
     "name": "stdout",
     "output_type": "stream",
     "text": [
      "Epoch 1/100\n",
      "10/10 [==============================] - 3s 125ms/step - loss: 2.0613 - accuracy: 0.2825 - val_loss: 1.3789 - val_accuracy: 0.5863\n",
      "Epoch 2/100\n",
      "10/10 [==============================] - 1s 101ms/step - loss: 1.2959 - accuracy: 0.5372 - val_loss: 0.9048 - val_accuracy: 0.6811\n",
      "Epoch 3/100\n",
      "10/10 [==============================] - 1s 101ms/step - loss: 0.9450 - accuracy: 0.6594 - val_loss: 0.7382 - val_accuracy: 0.7294\n",
      "Epoch 4/100\n",
      "10/10 [==============================] - 1s 101ms/step - loss: 0.7822 - accuracy: 0.7123 - val_loss: 0.6504 - val_accuracy: 0.7534\n",
      "Epoch 5/100\n",
      "10/10 [==============================] - 1s 100ms/step - loss: 0.6987 - accuracy: 0.7412 - val_loss: 0.5911 - val_accuracy: 0.7735\n",
      "Epoch 6/100\n",
      "10/10 [==============================] - 1s 100ms/step - loss: 0.6357 - accuracy: 0.7620 - val_loss: 0.5420 - val_accuracy: 0.7975\n",
      "Epoch 7/100\n",
      "10/10 [==============================] - 1s 101ms/step - loss: 0.5952 - accuracy: 0.7778 - val_loss: 0.5122 - val_accuracy: 0.8130\n",
      "Epoch 8/100\n",
      "10/10 [==============================] - 1s 100ms/step - loss: 0.5619 - accuracy: 0.7918 - val_loss: 0.4956 - val_accuracy: 0.8204\n",
      "Epoch 9/100\n",
      "10/10 [==============================] - 1s 101ms/step - loss: 0.5392 - accuracy: 0.8015 - val_loss: 0.4771 - val_accuracy: 0.8243\n",
      "Epoch 10/100\n",
      "10/10 [==============================] - 1s 101ms/step - loss: 0.5147 - accuracy: 0.8112 - val_loss: 0.4592 - val_accuracy: 0.8349\n",
      "Epoch 11/100\n",
      "10/10 [==============================] - 1s 100ms/step - loss: 0.4943 - accuracy: 0.8186 - val_loss: 0.4479 - val_accuracy: 0.8380\n",
      "Epoch 12/100\n",
      "10/10 [==============================] - 1s 101ms/step - loss: 0.4760 - accuracy: 0.8270 - val_loss: 0.4310 - val_accuracy: 0.8440\n",
      "Epoch 13/100\n",
      "10/10 [==============================] - 1s 101ms/step - loss: 0.4605 - accuracy: 0.8324 - val_loss: 0.4164 - val_accuracy: 0.8494\n",
      "Epoch 14/100\n",
      "10/10 [==============================] - 1s 100ms/step - loss: 0.4464 - accuracy: 0.8379 - val_loss: 0.4035 - val_accuracy: 0.8521\n",
      "Epoch 15/100\n",
      "10/10 [==============================] - 1s 102ms/step - loss: 0.4327 - accuracy: 0.8417 - val_loss: 0.3930 - val_accuracy: 0.8571\n",
      "Epoch 16/100\n",
      "10/10 [==============================] - 1s 101ms/step - loss: 0.4219 - accuracy: 0.8468 - val_loss: 0.3807 - val_accuracy: 0.8615\n",
      "Epoch 17/100\n",
      "10/10 [==============================] - 1s 101ms/step - loss: 0.4139 - accuracy: 0.8497 - val_loss: 0.3725 - val_accuracy: 0.8643\n",
      "Epoch 18/100\n",
      "10/10 [==============================] - 1s 101ms/step - loss: 0.4017 - accuracy: 0.8536 - val_loss: 0.3638 - val_accuracy: 0.8660\n",
      "Epoch 19/100\n",
      "10/10 [==============================] - 1s 100ms/step - loss: 0.3929 - accuracy: 0.8570 - val_loss: 0.3605 - val_accuracy: 0.8675\n",
      "Epoch 20/100\n",
      "10/10 [==============================] - 1s 100ms/step - loss: 0.3887 - accuracy: 0.8579 - val_loss: 0.3491 - val_accuracy: 0.8730\n",
      "Epoch 21/100\n",
      "10/10 [==============================] - 1s 101ms/step - loss: 0.3754 - accuracy: 0.8646 - val_loss: 0.3461 - val_accuracy: 0.8724\n",
      "Epoch 22/100\n",
      "10/10 [==============================] - 1s 100ms/step - loss: 0.3672 - accuracy: 0.8655 - val_loss: 0.3404 - val_accuracy: 0.8767\n",
      "Epoch 23/100\n",
      "10/10 [==============================] - 1s 100ms/step - loss: 0.3619 - accuracy: 0.8681 - val_loss: 0.3431 - val_accuracy: 0.8744\n",
      "Epoch 24/100\n",
      "10/10 [==============================] - 1s 100ms/step - loss: 0.3569 - accuracy: 0.8703 - val_loss: 0.3346 - val_accuracy: 0.8787\n",
      "Epoch 25/100\n",
      "10/10 [==============================] - 1s 101ms/step - loss: 0.3513 - accuracy: 0.8715 - val_loss: 0.3250 - val_accuracy: 0.8799\n",
      "Epoch 26/100\n",
      "10/10 [==============================] - 1s 101ms/step - loss: 0.3426 - accuracy: 0.8752 - val_loss: 0.3193 - val_accuracy: 0.8809\n",
      "Epoch 27/100\n",
      "10/10 [==============================] - 1s 101ms/step - loss: 0.3386 - accuracy: 0.8766 - val_loss: 0.3142 - val_accuracy: 0.8841\n",
      "Epoch 28/100\n",
      "10/10 [==============================] - 1s 100ms/step - loss: 0.3354 - accuracy: 0.8785 - val_loss: 0.3148 - val_accuracy: 0.8839\n",
      "Epoch 29/100\n",
      "10/10 [==============================] - 1s 100ms/step - loss: 0.3293 - accuracy: 0.8802 - val_loss: 0.3078 - val_accuracy: 0.8865\n",
      "Epoch 30/100\n",
      "10/10 [==============================] - 1s 100ms/step - loss: 0.3245 - accuracy: 0.8809 - val_loss: 0.3041 - val_accuracy: 0.8879\n",
      "Epoch 31/100\n",
      "10/10 [==============================] - 1s 101ms/step - loss: 0.3234 - accuracy: 0.8830 - val_loss: 0.3031 - val_accuracy: 0.8883\n",
      "Epoch 32/100\n",
      "10/10 [==============================] - 1s 100ms/step - loss: 0.3168 - accuracy: 0.8843 - val_loss: 0.2981 - val_accuracy: 0.8902\n",
      "Epoch 33/100\n",
      "10/10 [==============================] - 1s 100ms/step - loss: 0.3130 - accuracy: 0.8851 - val_loss: 0.2972 - val_accuracy: 0.8908\n",
      "Epoch 34/100\n",
      "10/10 [==============================] - 1s 100ms/step - loss: 0.3117 - accuracy: 0.8853 - val_loss: 0.2940 - val_accuracy: 0.8905\n",
      "Epoch 35/100\n",
      "10/10 [==============================] - 1s 100ms/step - loss: 0.3107 - accuracy: 0.8865 - val_loss: 0.2972 - val_accuracy: 0.8890\n",
      "Epoch 36/100\n",
      "10/10 [==============================] - 1s 100ms/step - loss: 0.3092 - accuracy: 0.8871 - val_loss: 0.2908 - val_accuracy: 0.8925\n",
      "Epoch 37/100\n",
      "10/10 [==============================] - 1s 100ms/step - loss: 0.3013 - accuracy: 0.8890 - val_loss: 0.2881 - val_accuracy: 0.8937\n",
      "Epoch 38/100\n",
      "10/10 [==============================] - 1s 101ms/step - loss: 0.2963 - accuracy: 0.8914 - val_loss: 0.2837 - val_accuracy: 0.8948\n",
      "Epoch 39/100\n",
      "10/10 [==============================] - 1s 101ms/step - loss: 0.2950 - accuracy: 0.8927 - val_loss: 0.2832 - val_accuracy: 0.8967\n",
      "Epoch 40/100\n",
      "10/10 [==============================] - 1s 100ms/step - loss: 0.2904 - accuracy: 0.8932 - val_loss: 0.2824 - val_accuracy: 0.8945\n",
      "Epoch 41/100\n",
      "10/10 [==============================] - 1s 100ms/step - loss: 0.2904 - accuracy: 0.8939 - val_loss: 0.2794 - val_accuracy: 0.8974\n",
      "Epoch 42/100\n",
      "10/10 [==============================] - 1s 99ms/step - loss: 0.2889 - accuracy: 0.8948 - val_loss: 0.2820 - val_accuracy: 0.8948\n",
      "Epoch 43/100\n",
      "10/10 [==============================] - 1s 100ms/step - loss: 0.2835 - accuracy: 0.8967 - val_loss: 0.2746 - val_accuracy: 0.8989\n",
      "Epoch 44/100\n",
      "10/10 [==============================] - 1s 100ms/step - loss: 0.2819 - accuracy: 0.8974 - val_loss: 0.2728 - val_accuracy: 0.9000\n",
      "Epoch 45/100\n",
      "10/10 [==============================] - 1s 100ms/step - loss: 0.2817 - accuracy: 0.8968 - val_loss: 0.2768 - val_accuracy: 0.8982\n",
      "Epoch 46/100\n",
      "10/10 [==============================] - 1s 100ms/step - loss: 0.2834 - accuracy: 0.8957 - val_loss: 0.2748 - val_accuracy: 0.8995\n",
      "Epoch 47/100\n",
      "10/10 [==============================] - 1s 101ms/step - loss: 0.2777 - accuracy: 0.8973 - val_loss: 0.2712 - val_accuracy: 0.9000\n",
      "Epoch 48/100\n",
      "10/10 [==============================] - 1s 100ms/step - loss: 0.2751 - accuracy: 0.8980 - val_loss: 0.2683 - val_accuracy: 0.9018\n",
      "Epoch 49/100\n",
      "10/10 [==============================] - 1s 101ms/step - loss: 0.2732 - accuracy: 0.8998 - val_loss: 0.2679 - val_accuracy: 0.9007\n",
      "Epoch 50/100\n",
      "10/10 [==============================] - 1s 101ms/step - loss: 0.2723 - accuracy: 0.9012 - val_loss: 0.2642 - val_accuracy: 0.9029\n",
      "Epoch 51/100\n",
      "10/10 [==============================] - 1s 101ms/step - loss: 0.2693 - accuracy: 0.9008 - val_loss: 0.2648 - val_accuracy: 0.9039\n",
      "Epoch 52/100\n",
      "10/10 [==============================] - 1s 100ms/step - loss: 0.2669 - accuracy: 0.9023 - val_loss: 0.2612 - val_accuracy: 0.9036\n",
      "Epoch 53/100\n",
      "10/10 [==============================] - 1s 101ms/step - loss: 0.2631 - accuracy: 0.9039 - val_loss: 0.2598 - val_accuracy: 0.9043\n",
      "Epoch 54/100\n",
      "10/10 [==============================] - 1s 101ms/step - loss: 0.2609 - accuracy: 0.9044 - val_loss: 0.2592 - val_accuracy: 0.9045\n",
      "Epoch 55/100\n",
      "10/10 [==============================] - 1s 100ms/step - loss: 0.2608 - accuracy: 0.9036 - val_loss: 0.2554 - val_accuracy: 0.9070\n",
      "Epoch 56/100\n",
      "10/10 [==============================] - 1s 99ms/step - loss: 0.2591 - accuracy: 0.9043 - val_loss: 0.2579 - val_accuracy: 0.9059\n",
      "Epoch 57/100\n",
      "10/10 [==============================] - 1s 101ms/step - loss: 0.2572 - accuracy: 0.9048 - val_loss: 0.2539 - val_accuracy: 0.9092\n",
      "Epoch 58/100\n",
      "10/10 [==============================] - 1s 100ms/step - loss: 0.2556 - accuracy: 0.9060 - val_loss: 0.2549 - val_accuracy: 0.9071\n",
      "Epoch 59/100\n",
      "10/10 [==============================] - 1s 100ms/step - loss: 0.2508 - accuracy: 0.9074 - val_loss: 0.2533 - val_accuracy: 0.9074\n",
      "Epoch 60/100\n",
      "10/10 [==============================] - 1s 101ms/step - loss: 0.2492 - accuracy: 0.9076 - val_loss: 0.2523 - val_accuracy: 0.9081\n",
      "Epoch 61/100\n",
      "10/10 [==============================] - 1s 101ms/step - loss: 0.2502 - accuracy: 0.9083 - val_loss: 0.2516 - val_accuracy: 0.9067\n",
      "Epoch 62/100\n",
      "10/10 [==============================] - 1s 101ms/step - loss: 0.2466 - accuracy: 0.9087 - val_loss: 0.2512 - val_accuracy: 0.9089\n",
      "Epoch 63/100\n",
      "10/10 [==============================] - 1s 100ms/step - loss: 0.2477 - accuracy: 0.9092 - val_loss: 0.2499 - val_accuracy: 0.9082\n",
      "Epoch 64/100\n",
      "10/10 [==============================] - 1s 101ms/step - loss: 0.2438 - accuracy: 0.9104 - val_loss: 0.2450 - val_accuracy: 0.9106\n",
      "Epoch 65/100\n",
      "10/10 [==============================] - 1s 100ms/step - loss: 0.2400 - accuracy: 0.9107 - val_loss: 0.2455 - val_accuracy: 0.9092\n",
      "Epoch 66/100\n",
      "10/10 [==============================] - 1s 100ms/step - loss: 0.2394 - accuracy: 0.9120 - val_loss: 0.2432 - val_accuracy: 0.9115\n",
      "Epoch 67/100\n",
      "10/10 [==============================] - 1s 100ms/step - loss: 0.2378 - accuracy: 0.9115 - val_loss: 0.2444 - val_accuracy: 0.9107\n",
      "Epoch 68/100\n",
      "10/10 [==============================] - 1s 100ms/step - loss: 0.2369 - accuracy: 0.9130 - val_loss: 0.2438 - val_accuracy: 0.9103\n",
      "Epoch 69/100\n",
      "10/10 [==============================] - ETA: 0s - loss: 0.2393 - accuracy: 0.9117Restoring model weights from the end of the best epoch: 66.\n",
      "10/10 [==============================] - 1s 100ms/step - loss: 0.2393 - accuracy: 0.9117 - val_loss: 0.2442 - val_accuracy: 0.9105\n",
      "Epoch 69: early stopping\n"
     ]
    }
   ],
   "source": [
    "max_epochs = 100\n",
    "n_iter_no_change = 3\n",
    "\n",
    "earlystop_callback = callbacks.EarlyStopping(monitor='val_loss', verbose = 1, restore_best_weights = True, patience=n_iter_no_change)\n",
    "\n",
    "fit_history = model.fit(X_train , y_train_cat, \n",
    "    validation_data=(X_test , y_test_cat), \n",
    "    epochs=max_epochs, \n",
    "    batch_size=6000, \n",
    "    verbose=1,\n",
    "    callbacks = [earlystop_callback])"
   ]
  },
  {
   "cell_type": "code",
   "execution_count": null,
   "metadata": {
    "colab": {
     "base_uri": "https://localhost:8080/"
    },
    "executionInfo": {
     "elapsed": 2641,
     "status": "ok",
     "timestamp": 1683629530013,
     "user": {
      "displayName": "Alma Mallo",
      "userId": "02140095592591339826"
     },
     "user_tz": -120
    },
    "id": "iA9yDJHg01a-",
    "outputId": "4f8523c0-aea7-4b90-ad82-c2a1e6730cd3"
   },
   "outputs": [
    {
     "name": "stdout",
     "output_type": "stream",
     "text": [
      "Exactitud del modelo: 0.9114999771118164\n"
     ]
    }
   ],
   "source": [
    "# Evaluacion del modelo utilizando los datos de test: \n",
    "scores = model.evaluate(X_test , y_test_cat , verbose=0)\n",
    "print (f\"Exactitud del modelo: {scores[1]}\")"
   ]
  },
  {
   "cell_type": "code",
   "execution_count": null,
   "metadata": {
    "colab": {
     "base_uri": "https://localhost:8080/",
     "height": 465
    },
    "executionInfo": {
     "elapsed": 1131,
     "status": "ok",
     "timestamp": 1683629533085,
     "user": {
      "displayName": "Alma Mallo",
      "userId": "02140095592591339826"
     },
     "user_tz": -120
    },
    "id": "bs3hBTFl01a_",
    "outputId": "2cf97e5c-7ff0-4fb1-a9ba-f932de3abeb0",
    "tags": []
   },
   "outputs": [
    {
     "data": {
      "image/png": "[encoded data removed]",
      "text/plain": [
       "<Figure size 1500x500 with 1 Axes>"
      ]
     },
     "metadata": {},
     "output_type": "display_data"
    }
   ],
   "source": [
    "  plt.figure(figsize=(15,5))\n",
    "  plt.plot(fit_history.history['loss'], label='Loss')\n",
    "  plt.plot(fit_history.history['val_loss'], label='Val Loss')\n",
    "  plt.xlabel('Epoch')\n",
    "  plt.ylabel('Error [MPG]')\n",
    "  plt.legend()\n",
    "  plt.grid(True)"
   ]
  },
  {
   "cell_type": "code",
   "execution_count": null,
   "metadata": {
    "colab": {
     "base_uri": "https://localhost:8080/",
     "height": 465
    },
    "executionInfo": {
     "elapsed": 504,
     "status": "ok",
     "timestamp": 1683629538162,
     "user": {
      "displayName": "Alma Mallo",
      "userId": "02140095592591339826"
     },
     "user_tz": -120
    },
    "id": "mdhib_5YQEhh",
    "outputId": "c357ea66-3141-4bb5-cb33-a8c61fd0d6bd"
   },
   "outputs": [
    {
     "data": {
      "image/png": "[encoded data removed]",
      "text/plain": [
       "<Figure size 1500x500 with 1 Axes>"
      ]
     },
     "metadata": {},
     "output_type": "display_data"
    }
   ],
   "source": [
    "  plt.figure(figsize=(15,5))\n",
    "  plt.plot(fit_history.history['accuracy'], label='Accuracy')\n",
    "  plt.plot(fit_history.history['val_accuracy'], label='Val Accuracy')\n",
    "  plt.xlabel('Epoch')\n",
    "  plt.ylabel('Error [MPG]')\n",
    "  plt.legend()\n",
    "  plt.grid(True)"
   ]
  },
  {
   "attachments": {},
   "cell_type": "markdown",
   "metadata": {
    "id": "htIWf9ctCVYK"
   },
   "source": [
    "<div class=\"alert alert-block alert-info\" \n",
    "     style=\"border: 0px solid #d60e8c; border-radius: 10px; background:#d60e8c; color: white;\">\n",
    "   <h2>EJERCICIO</h2>\n",
    "    <hr style=\"border: 0.5px solid #ffffff;\">\n",
    "    <ul style=\"margin-bottom: 20px;\">\n",
    "        <li>Aplica la red anterior al conjunto de datos <b>fashion_mnist</b>.</li>\n",
    "        <li>Realiza cambios en las capas convolucionales (añadiendo capas y/o modificando los parámetros)</li>\n",
    "        <li>Reponde las siguientes preguntas: \n",
    "           <ul>\n",
    "              <li>¿Qué ocurre con el tamaño de la imagen tras pasar por las capas convolucionales?</li>\n",
    "              <li>Mira la documentación de las capa <a href=\"https://keras.io/api/layers/convolution_layers/convolution2d/\">Conv2D</a>: ¿qué parametro o parámetros afectan al tamaño de la salida de la capa convolucional? Escribe el nombre y el efecto que produce.</li>\n",
    "              <li>¿Para qué crees que sirve el número de filtros de las capas convolucionales?</li>              \n",
    "           </ul>\n",
    "        </li>        \n",
    "    </ul>\n",
    "</div>"
   ]
  },
  {
   "cell_type": "code",
   "execution_count": null,
   "metadata": {
    "id": "ywGZheGTCVYL",
    "tags": []
   },
   "outputs": [],
   "source": [
    "from tensorflow.keras.datasets import fashion_mnist\n",
    "\n",
    "\n",
    "\n",
    "\n",
    "\n"
   ]
  }
 ],
 "metadata": {
  "accelerator": "GPU",
  "colab": {
   "gpuType": "V100",
   "machine_shape": "hm",
   "provenance": [],
   "toc_visible": true
  },
  "gpuClass": "standard",
  "kernelspec": {
   "display_name": "Python 3 (ipykernel)",
   "language": "python",
   "name": "python3"
  },
  "language_info": {
   "codemirror_mode": {
    "name": "ipython",
    "version": 3
   },
   "file_extension": ".py",
   "mimetype": "text/x-python",
   "name": "python",
   "nbconvert_exporter": "python",
   "pygments_lexer": "ipython3",
   "version": "3.10.10"
  }
 },
 "nbformat": 4,
 "nbformat_minor": 4
}
